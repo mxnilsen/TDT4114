{
 "cells": [
  {
   "cell_type": "markdown",
   "metadata": {
    "deletable": false,
    "editable": false,
    "run_control": {
     "frozen": true
    }
   },
   "source": [
    "# Bokanalyse med plotting"
   ]
  },
  {
   "cell_type": "markdown",
   "metadata": {},
   "source": [
    "I denne oppgaven skal du analysere boken *Alice in Wonderland* og se hvor mange ganger forskjellige ord dukker opp i de forskjellige kapitlene. Dette skal vi etterhvert plotte inn i en graf ved hjelp av `matplotlib`.\n",
    "\n",
    "Filen vi skal bruke er [alice_in_wonderland.txt](../data/alice_in_wonderland.txt), som er hele den engelske versjonen av Alice i eventyrland i en tekstfil."
   ]
  },
  {
   "cell_type": "markdown",
   "metadata": {},
   "source": [
    "## Ordhyppighetsanalyse"
   ]
  },
  {
   "cell_type": "markdown",
   "metadata": {},
   "source": [
    "Ordhyppighetsanalyse handler om å identifisere og telle hvor ofte hvert ord forekommer i en tekst. Dette kan gi innsikt i hvilke ord som er mest sentrale eller viktige i teksten. Her er noen viktige aspekter ved ordhyppighetsanalyse:\n",
    "\n",
    "- Identifisere Nøkkelord:\n",
    "\n",
    "Ved å finne de mest brukte ordene, kan man identifisere nøkkeltemaer og konsepter som er viktige i teksten.\n",
    "\n",
    "- Tekstanalyse:\n",
    "\n",
    "Ordhyppighetsanalyse er en grunnleggende teknikk innen tekstanalyse og kan brukes som et første skritt i mer avanserte analyser som sentimentanalyse, emneanalyse, og stilistisk analyse.\n",
    "Sammenligning av Tekster:\n",
    "\n",
    "Ved å sammenligne ordhyppigheten i forskjellige tekster, kan man finne likheter og forskjeller i temaer, stil og ordbruk.\n",
    "\n",
    "- Språklig Mønster:\n",
    "\n",
    "Analysen kan avsløre språklige mønstre og vaner hos forfatteren, som bruk av spesifikke ord eller fraser.\n",
    "\n",
    "- Dataforberedelse:\n",
    "\n",
    "Før analysen må teksten ofte renses for spesialtegn, tall og stoppeord (vanlige ord som \"og\", \"er\", \"i\", etc.) som ikke gir mye innsikt.\n",
    "\n",
    "- Visualisering:\n",
    "\n",
    "Resultatene av ordhyppighetsanalysen kan visualiseres ved hjelp av grafer, diagrammer eller ordskyer for å gjøre det lettere å forstå og tolke dataene.\n",
    "\n",
    "### Oppgave a) \n",
    "Skriv et program i Python som viser de mest brukte ordene i \"Alice i Eventyrland\". Visualiser deretter ordene i en graf (bruk matplotlib)"
   ]
  },
  {
   "cell_type": "code",
   "execution_count": 50,
   "metadata": {},
   "outputs": [
    {
     "name": "stdout",
     "output_type": "stream",
     "text": [
      "(['the', 'and', 'to', 'a', 'it'], [1644, 872, 729, 632, 595])\n"
     ]
    },
    {
     "data": {
      "image/png": "[encoded data removed]",
      "text/plain": [
       "<Figure size 640x480 with 1 Axes>"
      ]
     },
     "metadata": {},
     "output_type": "display_data"
    }
   ],
   "source": [
    "# Skriv din kode her...\n",
    "\n",
    "def fjern_spesialtegn(filename):\n",
    "\n",
    "    with open(filename,'r') as f:\n",
    "        innhold = f.read()\n",
    "\n",
    "        tekst_strippet = ''\n",
    "\n",
    "        for bokstav in innhold:\n",
    "\n",
    "            if bokstav.isalpha() == True:\n",
    "                tekst_strippet += bokstav.lower()\n",
    "\n",
    "            elif bokstav.islower() == True:\n",
    "                tekst_strippet += bokstav\n",
    "\n",
    "            else:\n",
    "                tekst_strippet += ' '\n",
    "\n",
    "#vet at tegnet ' blir bruk i ord som Alice's, da blir det med i tellingen for antall ganger ordet 'alice' står. Videre så blir da s et eget ord.\n",
    "        \n",
    "    return tekst_strippet\n",
    "\n",
    "#print(fjern_spesialtegn('alice_in_wonderland.txt'))\n",
    "\n",
    "def telle_ord(filename):\n",
    "\n",
    "    innhold = fjern_spesialtegn('alice_in_wonderland.txt')\n",
    "    ord_lst = innhold.split()\n",
    "    \n",
    "    x_lst = []\n",
    "    y_lst = []\n",
    "\n",
    "    for ord in ord_lst:\n",
    "        \n",
    "        if ord in x_lst:\n",
    "            indeks = int(x_lst.index(ord))\n",
    "            y_lst[indeks] += 1\n",
    "\n",
    "        else:\n",
    "            x_lst.append(ord)\n",
    "            y_lst.append(1)\n",
    "\n",
    "\n",
    "    return x_lst, y_lst\n",
    "\n",
    "#print(telle_ord('alice_in_wonderland.txt'))\n",
    "\n",
    "#finner de 5 ordene som står flest ganger. Tar ikke hensyn til om noen ord står like mange ganger. \n",
    "\n",
    "def stigende_rekkefølge(filename):\n",
    "\n",
    "    x,y = telle_ord('alice_in_wonderland.txt')\n",
    "    x_verdier = []\n",
    "    y_verdier = []\n",
    "\n",
    "    for i in range(5):\n",
    "\n",
    "        teller = 0\n",
    "        max = y[0]\n",
    "        indeks_max = 0\n",
    "\n",
    "        for tall in y:\n",
    "            \n",
    "            if tall > max:\n",
    "                max = tall\n",
    "                indeks_max = teller\n",
    "\n",
    "            teller += 1\n",
    "\n",
    "        x_verdier.append(x[indeks_max])\n",
    "        y_verdier.append(y[indeks_max])\n",
    "\n",
    "        y.pop(indeks_max)\n",
    "        x.pop(indeks_max)\n",
    "\n",
    "    return x_verdier,y_verdier\n",
    "\n",
    "print(stigende_rekkefølge('alice_in_wonderland.txt'))\n",
    "\n",
    "\n",
    "import matplotlib.pyplot as plt\n",
    "\n",
    "x_verdi,y_verdi = stigende_rekkefølge('alice_in_wonderland.txt')\n",
    "plt.bar(x_verdi,y_verdi)\n",
    "plt.xlabel(\"Ord\")                         # X-akse tittel\n",
    "plt.ylabel(\"Tall\")                        # Y-akse tittel\n",
    "plt.title(\"Ord og deres tilhørende tall\")\n",
    "plt.show()\n",
    "\n",
    "\n",
    "        \n",
    "\n",
    "\n",
    "\n",
    "\n",
    "\n",
    "\n",
    "\n",
    "\n",
    "#ikke en del av en oppgave. Måtte bare huske hvordan man åpner en fil\n",
    "def read_file(filename):\n",
    "\n",
    "    with open(filename,'r') as f:\n",
    "        innhold = f.read()\n",
    "\n",
    "    return innhold\n",
    "\n",
    "#print(read_file('alice_in_wonderland.txt'))\n",
    "\n",
    "\n"
   ]
  },
  {
   "cell_type": "markdown",
   "metadata": {},
   "source": [
    "**Obs:** funksjonen `count` tar hensyn til store og små bokstaver, så dette må du gjøre noe med i koden din."
   ]
  },
  {
   "cell_type": "markdown",
   "metadata": {},
   "source": [
    "## Karakteranalyse:\n",
    "\n",
    "Karakteranalyse handler om å undersøke og forstå karakterene i en tekst, inkludert deres egenskaper, handlinger, og relasjoner til andre karakterer.\n",
    "\n",
    "### Oppgave b)\n",
    "Hvor ofte dukker forskjellige karakterer opp?\n",
    "\n",
    "Følg disse trinnene for å løse oppgaven:\n",
    "\n",
    "- Les inn teksten fra en fil.\n",
    "- Rens teksten ved å fjerne spesialtegn og tall\n",
    "    ```Python \n",
    "    cleaned_text = re.sub(r'[^a-zA-Z\\s]', '', text)\n",
    "    ```\n",
    "- Identifiser karakterene: Lag en liste over karakterene i boken.\n",
    "    ```Python\n",
    "    characters = ['Alice', 'Hare', 'Queen', 'King', 'Cat', 'Duchess', 'Hatter', 'Rabbit']\n",
    "    ```\n",
    "\n",
    "- Tell forekomsten av hver karakter.\n",
    "- Visualiser resultatet"
   ]
  },
  {
   "cell_type": "code",
   "execution_count": 51,
   "metadata": {},
   "outputs": [],
   "source": [
    "# Skriv din kode her..."
   ]
  },
  {
   "cell_type": "markdown",
   "metadata": {},
   "source": [
    "## Leksikalsk mangfold\n",
    "\n",
    "Leksikalsk mangfold refererer til variasjonen og rikdommen i ordforrådet som brukes i en tekst. Det måler hvor mange forskjellige ord (unikke ord) som brukes i forhold til det totale antallet ord i teksten. Høy leksikalsk mangfold indikerer at forfatteren bruker et bredt spekter av ord, noe som kan tyde på et rikt og variert språk.\n",
    "\n",
    "Her er noen viktige aspekter ved leksikalsk mangfold:\n",
    "\n",
    "- Type-Token Ratio (TTR):\n",
    "\n",
    "    - Definisjon: Forholdet mellom antall unike ord (typer) og totalt antall ord (tokens) i en tekst.\n",
    "    - Formel: TTR = (Antall unike ord) / (Totalt antall ord)\n",
    "    - Formål: En høy TTR indikerer høy leksikalsk mangfold, mens en lav TTR indikerer lav leksikalsk mangfold.\n",
    "    \n",
    "- Leksikalsk Tetthet:\n",
    "\n",
    "    - Definisjon: Forholdet mellom antall innholdsord (substantiv, verb, adjektiv, adverb) og totalt antall ord i en tekst.\n",
    "    - Formål: Måler hvor \"tett\" teksten er med meningsbærende ord.\n",
    "\n",
    "- Ordrikdom:\n",
    "\n",
    "    - Definisjon: Variasjonen i ordforrådet som brukes i en tekst.\n",
    "    - Formål: Gir innsikt i forfatterens språklige ferdigheter og tekstens kompleksitet.\n",
    "\n",
    "- Sammenligning med Andre Tekster:\n",
    "\n",
    "    - Formål: Ved å sammenligne leksikalsk mangfold i forskjellige tekster, kan man få innsikt i forskjeller i stil, kompleksitet og språklig variasjon mellom forfattere eller verk fra forskjellige perioder.\n",
    "\n",
    "### Oppgave c)\n",
    "\n",
    "Bruk metoden Type-Token Ratio (TTR) og finn ut hva det leksikalske mangfoldet i boken er.\n",
    "\n",
    "Her er en steg-for-steg tilnærming:\n",
    "\n",
    "- Les inn teksten fra en fil.\n",
    "- Rens teksten ved å fjerne spesialtegn og tall.\n",
    "    ```Python\n",
    "    cleaned_text = re.sub(r'[^a-zA-Z\\s]', '', text)\n",
    "    ```\n",
    "- Del teksten inn i ord.\n",
    "- Tell totalt antall ord og antall unike ord.\n",
    "- Beregn Type-Token Ratio (TTR).\n",
    "\n"
   ]
  },
  {
   "cell_type": "code",
   "execution_count": 52,
   "metadata": {},
   "outputs": [],
   "source": [
    "# Skriv din kode her..."
   ]
  }
 ],
 "metadata": {
  "kernelspec": {
   "display_name": "Python 3",
   "language": "python",
   "name": "python3"
  },
  "language_info": {
   "codemirror_mode": {
    "name": "ipython",
    "version": 3
   },
   "file_extension": ".py",
   "mimetype": "text/x-python",
   "name": "python",
   "nbconvert_exporter": "python",
   "pygments_lexer": "ipython3",
   "version": "3.12.8"
  },
  "toc": {
   "base_numbering": 1,
   "nav_menu": {},
   "number_sections": false,
   "sideBar": true,
   "skip_h1_title": false,
   "title_cell": "Table of Contents",
   "title_sidebar": "Contents",
   "toc_cell": false,
   "toc_position": {},
   "toc_section_display": true,
   "toc_window_display": false
  }
 },
 "nbformat": 4,
 "nbformat_minor": 2
}
