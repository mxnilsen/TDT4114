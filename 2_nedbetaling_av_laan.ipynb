{
 "cells": [
  {
   "cell_type": "markdown",
   "metadata": {
    "editable": true,
    "slideshow": {
     "slide_type": ""
    },
    "tags": []
   },
   "source": [
    "# Nedbetaling av serielån\n",
    "\n",
    "**Læringsmål:**\n",
    "\n",
    "* While-løkker med oppsamling\n",
    "\n",
    "**Introduksjon:**\n",
    "\n",
    "Et serielån er en type lån hvor tilbakebetalingen skjer i faste beløp av hovedstolen, noe som betyr at renten beregnes på det gjenværende beløpet hver periode. Hovedstolen tilbakebetales i like store avdrag, mens renten gradvis synker ettersom hovedstolen blir mindre. Dette fører til at de totale månedlige innbetalingene avtar over tid.\n",
    "\n",
    "Hovedstol refererer til det opprinnelige lånebeløpet som en låntaker mottar fra långiveren. Det er det beløpet som renten beregnes på, og som skal tilbakebetales over tid. Hovedstolen inkluderer ikke renter eller gebyrer; det er kun selve lånebeløpet.\n",
    "\n",
    "For eksempel, hvis du tar opp et lån på 100 000 kr, er hovedstolen 100 000 kr. Når du betaler tilbake lånet, betaler du både avdrag på hovedstolen og renter på det gjenværende beløpet. Hovedstolen reduseres etter hvert som du gjør innbetalinger, noe som også fører til at renten som beregnes på lånet blir lavere over tid.\n",
    "\n",
    "\n",
    "Eksempel:\n",
    "\n",
    "La oss si at du tar opp et serielån på 100 000 kr med en rente på 5 % og en nedbetalingstid på 5 år.\n",
    "\n",
    "- Hovedstolen deles opp i like store avdrag, som i dette tilfellet blir 100 000 kr / 60 måneder = 1 666,67 kr per måned i avdrag (for 5 år).\n",
    "- Renten for den første måneden kalkuleres på hele beløpet (100 000 kr), så renten blir 100 000 kr * 0,05 / 12 ≈ 416,67 kr.\n",
    "- Den totale innbetalingen for den første måneden blir da 1 666,67 kr (avdrag) + 416,67 kr (rente) = 2 083,34 kr.\n",
    "- I den andre måneden vil renten være basert på det gjenværende lånet (98 333,33 kr), og så videre.\n",
    "\n",
    "\n",
    "Bruk gjerne [Serielånskalkulatoren](https://www.smartepenger.no/105-kalkulator/978-serielanskalkulator) til Smarte Penger for å gjøre deg kjent med hvordan serie lån fungerer."
   ]
  },
  {
   "cell_type": "markdown",
   "metadata": {},
   "source": [
    "## a) Registrere en innbetaling:\n",
    "Skriv en funksjon som registrerer innbetalingen for et serielån. Funksjonen skal ta inn månedlig innbetaling, rente og gjenværende hovedstol og returnere det nye gjenværende beløpet etter innbetalingen."
   ]
  },
  {
   "cell_type": "code",
   "execution_count": 34,
   "metadata": {
    "nbgrader": {
     "grade": false,
     "grade_id": "cell-916064d0f8d9d3ef",
     "locked": false,
     "schema_version": 3,
     "solution": true,
     "task": false
    }
   },
   "outputs": [
    {
     "name": "stdout",
     "output_type": "stream",
     "text": [
      "98333.32666666666\n"
     ]
    }
   ],
   "source": [
    "# Skriv din kode her...\n",
    "\n",
    "\n",
    "\n",
    "def serielån(månedlig_innbetaling, rente, gjenværende_hovedstol): #antar at rente er rentesatsen i desimaltall\n",
    "    rente_beløp = gjenværende_hovedstol * rente / 12\n",
    "    avdrag = månedlig_innbetaling - rente_beløp #antar månedlig innbetaling = rente + avdrag\n",
    "    gjenværende_hovedstol -= avdrag\n",
    "    return gjenværende_hovedstol\n",
    "\n",
    "print(serielån(2083.34, 0.05, 100000))\n",
    "\n",
    "\n",
    "#koden under er feil, glemte å lese oppgaven\n",
    "def innbetaling(hovedstol,antall_måneder, rentesats):\n",
    "\n",
    "    avdrag = hovedstol/antall_måneder\n",
    "\n",
    "    resterende_beløp = hovedstol\n",
    "    teller = 1\n",
    "\n",
    "    while resterende_beløp > 0:\n",
    "\n",
    "        if resterende_beløp <= avdrag:\n",
    "            rente_beløp = resterende_beløp * rentesats\n",
    "            innebetaling = resterende_beløp\n",
    "            #print(f'Den {teller}. måneden er innbetalingen {innbetaling}kr, og lånet er betalt ned!')\n",
    "            break\n",
    "\n",
    "        else:\n",
    "            rente_beløp = resterende_beløp * rentesats\n",
    "            innbetaling = avdrag + rente_beløp\n",
    "            resterende_beløp -= avdrag\n",
    "            #print(f'Den {teller}. måneden er innbetalingen {innbetaling}kr, og det resterende låned er på {resterende_beløp}kr')\n",
    "            teller += 1\n",
    "\n",
    "\n",
    "#innbetaling(100000,60,0.05)"
   ]
  },
  {
   "cell_type": "code",
   "execution_count": null,
   "metadata": {},
   "outputs": [],
   "source": []
  },
  {
   "cell_type": "code",
   "execution_count": null,
   "metadata": {},
   "outputs": [],
   "source": []
  },
  {
   "cell_type": "markdown",
   "metadata": {},
   "source": [
    "## b) Finne nedbetalingstid:\n",
    "Skriv en funksjon som finner nedbetalingstiden i måneder for et serielån basert på lånebeløp, månedlig avdrag og rente. Funksjonen bør returnere antall måneder det tar å betale ned lånet.\n",
    "Bruk funksjonen fra oppgave a) for å finne ut hva gjenvaerende_hovedstol er etter hver betaling. \n"
   ]
  },
  {
   "cell_type": "code",
   "execution_count": 35,
   "metadata": {
    "nbgrader": {
     "grade": false,
     "grade_id": "cell-3c6ef7bba03d7350",
     "locked": false,
     "schema_version": 3,
     "solution": true,
     "task": false
    }
   },
   "outputs": [
    {
     "name": "stdout",
     "output_type": "stream",
     "text": [
      "60\n"
     ]
    }
   ],
   "source": [
    "# Skriv din kode her...\n",
    "\n",
    "def måneder(lånebeløp,månedlig_avdrag,rente):\n",
    "    måned = 1\n",
    "    gjenværende_hovedstol = lånebeløp\n",
    "\n",
    "\n",
    "    while gjenværende_hovedstol > 0:\n",
    "\n",
    "        månedlig_innbetaling = månedlig_avdrag + rente * gjenværende_hovedstol/12\n",
    "\n",
    "        if gjenværende_hovedstol < månedlig_avdrag:\n",
    "            return måned\n",
    "\n",
    "        else:\n",
    "            gjenværende_hovedstol = serielån(månedlig_innbetaling, rente, gjenværende_hovedstol)\n",
    "        \n",
    "        måned += 1\n",
    "   \n",
    "\n",
    "print(måneder(100000,1667,0.05))\n",
    "\n"
   ]
  },
  {
   "cell_type": "markdown",
   "metadata": {},
   "source": [
    "## c) \n",
    "Endre funksjonen fra oppgave b slik at maanedlig_avdrag, rente_kostnad og gjenvaerende_hovedstol for hver måned returneres i som en liste i tillegg til total nedbetalingstid.\n",
    "\n"
   ]
  },
  {
   "cell_type": "code",
   "execution_count": 39,
   "metadata": {},
   "outputs": [
    {
     "name": "stdout",
     "output_type": "stream",
     "text": [
      "([[1667, 416.67, 98333.0], [1667, 409.72, 96666.0], [1667, 402.78, 94999.0], [1667, 395.83, 93332.0], [1667, 388.88, 91665.0], [1667, 381.94, 89998.0], [1667, 374.99, 88331.0], [1667, 368.05, 86664.0], [1667, 361.1, 84997.0], [1667, 354.15, 83330.0], [1667, 347.21, 81663.0], [1667, 340.26, 79996.0], [1667, 333.32, 78329.0], [1667, 326.37, 76662.0], [1667, 319.43, 74995.0], [1667, 312.48, 73328.0], [1667, 305.53, 71661.0], [1667, 298.59, 69994.0], [1667, 291.64, 68327.0], [1667, 284.7, 66660.0], [1667, 277.75, 64993.0], [1667, 270.8, 63326.0], [1667, 263.86, 61659.0], [1667, 256.91, 59992.0], [1667, 249.97, 58325.0], [1667, 243.02, 56658.0], [1667, 236.08, 54991.0], [1667, 229.13, 53324.0], [1667, 222.18, 51657.0], [1667, 215.24, 49990.0], [1667, 208.29, 48323.0], [1667, 201.35, 46656.0], [1667, 194.4, 44989.0], [1667, 187.45, 43322.0], [1667, 180.51, 41655.0], [1667, 173.56, 39988.0], [1667, 166.62, 38321.0], [1667, 159.67, 36654.0], [1667, 152.72, 34987.0], [1667, 145.78, 33320.0], [1667, 138.83, 31653.0], [1667, 131.89, 29986.0], [1667, 124.94, 28319.0], [1667, 118.0, 26652.0], [1667, 111.05, 24985.0], [1667, 104.1, 23318.0], [1667, 97.16, 21651.0], [1667, 90.21, 19984.0], [1667, 83.27, 18317.0], [1667, 76.32, 16650.0], [1667, 69.38, 14983.0], [1667, 62.43, 13316.0], [1667, 55.48, 11649.0], [1667, 48.54, 9982.0], [1667, 41.59, 8315.0], [1667, 34.65, 6648.0], [1667, 27.7, 4981.0], [1667, 20.75, 3314.0], [1667, 13.81, 1647.0], [1647.0, 6.86, 0]], 60)\n"
     ]
    }
   ],
   "source": [
    "# Skriv din kode her...\n",
    "\n",
    "\n",
    "def måneder2(lånebeløp,månedlig_avdrag,rente):\n",
    "    måned = 1\n",
    "    gjenværende_hovedstol = lånebeløp\n",
    "\n",
    "    lst = []\n",
    "    \n",
    "\n",
    "    while gjenværende_hovedstol > 0:\n",
    "        \n",
    "        rentekostnad = gjenværende_hovedstol*rente/12\n",
    "\n",
    "        månedlig_innbetaling = månedlig_avdrag + rentekostnad\n",
    "\n",
    "        if gjenværende_hovedstol < månedlig_avdrag:\n",
    "\n",
    "            lst.append([gjenværende_hovedstol,round(rentekostnad,2),0])\n",
    "\n",
    "            return lst, måned\n",
    "\n",
    "        else:\n",
    "            gjenværende_hovedstol = serielån(månedlig_innbetaling, rente, gjenværende_hovedstol)\n",
    "            lst.append([månedlig_avdrag,round(rentekostnad,2),gjenværende_hovedstol])\n",
    "  \n",
    "\n",
    "        måned += 1\n",
    "   \n",
    "\n",
    "\n",
    "print(måneder2(100000,1667,0.05))\n",
    "\n",
    "\n"
   ]
  }
 ],
 "metadata": {
  "celltoolbar": "Create Assignment",
  "kernelspec": {
   "display_name": "Python 3",
   "language": "python",
   "name": "python3"
  },
  "language_info": {
   "codemirror_mode": {
    "name": "ipython",
    "version": 3
   },
   "file_extension": ".py",
   "mimetype": "text/x-python",
   "name": "python",
   "nbconvert_exporter": "python",
   "pygments_lexer": "ipython3",
   "version": "3.13.1"
  },
  "varInspector": {
   "cols": {
    "lenName": 16,
    "lenType": 16,
    "lenVar": 40
   },
   "kernels_config": {
    "python": {
     "delete_cmd_postfix": "",
     "delete_cmd_prefix": "del ",
     "library": "var_list.py",
     "varRefreshCmd": "print(var_dic_list())"
    },
    "r": {
     "delete_cmd_postfix": ") ",
     "delete_cmd_prefix": "rm(",
     "library": "var_list.r",
     "varRefreshCmd": "cat(var_dic_list()) "
    }
   },
   "types_to_exclude": [
    "module",
    "function",
    "builtin_function_or_method",
    "instance",
    "_Feature"
   ],
   "window_display": false
  }
 },
 "nbformat": 4,
 "nbformat_minor": 4
}
