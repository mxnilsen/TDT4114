{
 "cells": [
  {
   "cell_type": "markdown",
   "metadata": {
    "deletable": false,
    "editable": false,
    "run_control": {
     "frozen": true
    }
   },
   "source": [
    "# Numpy, pandas og matplotlib\n",
    "\n",
    "**Læringsmål**\n",
    "\n",
    "* Grunnleggene om\n",
    "  - Numpy-arrays\n",
    "  - Plotting\n",
    "\n"
   ]
  },
  {
   "cell_type": "markdown",
   "metadata": {},
   "source": [
    "Numpy og matplotlib brukes ofte til statistikk og analyser, og i denne oppgaven skal vi laste inn et stort datasett og gjennomføre enkle analyser på det. \n",
    "Datasettet er hentet fra [kaggle](https://www.kaggle.com/datasets/arjunprasadsarkhel/2021-olympics-in-tokyo) og handler om 2021 Olympics i Tokyo.\n",
    "\n",
    "### a) Åpne excel fil i Python\n",
    "Last ned datasettet, pakk ut og legg filene under folderen data i ditt prosjekt.\n",
    "Bruk deretter pandas sin read_excel funksjon til å lese filen Medals.xlsx.\n",
    "\n",
    "Trinn-for-trinn instruksjoner:\n",
    "- Installer nødvendige biblioteker\n",
    "- Les data fra Excel-filen"
   ]
  },
  {
   "cell_type": "code",
   "execution_count": null,
   "metadata": {},
   "outputs": [],
   "source": [
    "# Skriv koden din her\n"
   ]
  },
  {
   "cell_type": "markdown",
   "metadata": {},
   "source": [
    "### b) Visualisere innholdet i Medals.xlsx\n",
    "\n",
    "I denne oppgaven skal du visualisere innholdet i filen ved hjelp av Python-biblioteker som Matplotlib.\n",
    "Bruk Matplotlib til å lage grafer som viser fordelingen av medaljer.    \n"
   ]
  },
  {
   "cell_type": "code",
   "execution_count": null,
   "metadata": {},
   "outputs": [],
   "source": [
    "# Skriv koden din her\n"
   ]
  },
  {
   "cell_type": "markdown",
   "metadata": {},
   "source": [
    "### c) Visualisere innholdet i EntriesGender.xlsx\n",
    "\n",
    "I denne oppgaven skal du åpne filen EntriesGender.xlsx, som inneholder informasjon om kjønnsfordelingen av deltakere i forskjellige arrangementer under de olympiske leker i Tokyo 2021. Du skal deretter visualisere innholdet i filen ved hjelp av Python-biblioteker som Pandas og Matplotlib."
   ]
  },
  {
   "cell_type": "code",
   "execution_count": null,
   "metadata": {},
   "outputs": [],
   "source": [
    "# Skriv koden din her\n"
   ]
  },
  {
   "cell_type": "markdown",
   "metadata": {},
   "source": [
    "### d) Analyser medaljefordelingen etter kjønn (Vanskelig)\n",
    "\n",
    "I denne oppgaven (frivillig) skal du kombinere data fra Medals.xlsx og EntriesGender.xlsx for å analysere medaljefordelingen etter kjønn. Du skal deretter visualisere resultatene ved hjelp av Python-biblioteker som Pandas og Matplotlib."
   ]
  },
  {
   "cell_type": "code",
   "execution_count": null,
   "metadata": {},
   "outputs": [],
   "source": [
    "# Skriv koden din her\n"
   ]
  }
 ],
 "metadata": {
  "kernelspec": {
   "display_name": "Python 3 (ipykernel)",
   "language": "python",
   "name": "python3"
  },
  "language_info": {
   "codemirror_mode": {
    "name": "ipython",
    "version": 3
   },
   "file_extension": ".py",
   "mimetype": "text/x-python",
   "name": "python",
   "nbconvert_exporter": "python",
   "pygments_lexer": "ipython3",
   "version": "3.11.6"
  },
  "toc": {
   "base_numbering": 1,
   "nav_menu": {},
   "number_sections": false,
   "sideBar": true,
   "skip_h1_title": false,
   "title_cell": "Table of Contents",
   "title_sidebar": "Contents",
   "toc_cell": false,
   "toc_position": {},
   "toc_section_display": true,
   "toc_window_display": false
  }
 },
 "nbformat": 4,
 "nbformat_minor": 4
}
